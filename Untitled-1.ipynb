{
 "cells": [
  {
   "cell_type": "code",
   "execution_count": 1,
   "metadata": {},
   "outputs": [
    {
     "data": {
      "text/plain": [
       "3"
      ]
     },
     "execution_count": 1,
     "metadata": {},
     "output_type": "execute_result"
    }
   ],
   "source": [
    "1+2\n"
   ]
  },
  {
   "cell_type": "code",
   "execution_count": 2,
   "metadata": {},
   "outputs": [
    {
     "data": {
      "text/plain": [
       "11"
      ]
     },
     "execution_count": 2,
     "metadata": {},
     "output_type": "execute_result"
    }
   ],
   "source": [
    "\n",
    "sun=5\n",
    "moon = 6\n",
    "sum=sun+moon\n",
    "sum"
   ]
  },
  {
   "cell_type": "code",
   "execution_count": 3,
   "metadata": {},
   "outputs": [],
   "source": [
    "import math\n",
    "\n",
    "# Ask the user what operation they would like to perform\n",
    "operation = input(\"What operation would you like to perform? (sqrt, log, or factorial): \")\n",
    "\n",
    "# Get the number from the user\n",
    "number = float(input(\"Enter a number: \"))\n",
    "\n",
    "# Perform the requested operation and print the result\n",
    "if operation == \"sqrt\":\n",
    "    result = math.sqrt(number)\n",
    "    print(\"The square root of\", number, \"is\", result)\n",
    "elif operation == \"log\":\n",
    "    result = math.log10(number)\n",
    "    print(\"The logarithm of\", number, \"is\", result)\n",
    "elif operation == \"factorial\":\n",
    "    result = math.factorial(int(number))\n",
    "    print(\"The factorial of\", number, \"is\", result)\n",
    "else:\n",
    "    print(\"Invalid operation selected. Please choose 'sqrt', 'log', or 'factorial'.\")\n"
   ]
  },
  {
   "cell_type": "code",
   "execution_count": null,
   "metadata": {},
   "outputs": [
    {
     "name": "stdout",
     "output_type": "stream",
     "text": [
      "6 is not a prime number.\n",
      "Factors of 6 are:\n",
      "2\n",
      "3\n",
      "Y = 201 when X = -5\n",
      "Y = 129 when X = -4\n",
      "Y = 73 when X = -3\n",
      "Y = 33 when X = -2\n",
      "Y = 9 when X = -1\n",
      "Y = 1 when X = 0\n",
      "Y = 9 when X = 1\n",
      "Y = 33 when X = 2\n",
      "Y = 73 when X = 3\n",
      "Y = 129 when X = 4\n",
      "Y = 201 when X = 5\n"
     ]
    }
   ],
   "source": [
    "# Ask the user for an integer\n",
    "X = int(input(\"Enter an integer: \"))\n",
    "\n",
    "# Check if X is prime or not\n",
    "is_prime = True\n",
    "for i in range(2, X):\n",
    "    if X % i == 0:\n",
    "        is_prime = False\n",
    "        break\n",
    "\n",
    "if is_prime:\n",
    "    print(X, \"is a prime number.\")\n",
    "else:\n",
    "    print(X, \"is not a prime number.\")\n",
    "    print(\"Factors of\", X, \"are:\")\n",
    "    for i in range(2, X):\n",
    "        if X % i == 0:\n",
    "            print(i)\n",
    "\n",
    "# Evaluate and print the equation Y = 8X^2 + 1 for X values from -5 to 5\n",
    "for X in range(-5, 6):\n",
    "    Y = 8*X**2 + 1\n",
    "    print(\"Y =\", Y, \"when X =\", X)\n"
   ]
  }
 ],
 "metadata": {
  "kernelspec": {
   "display_name": "Python 3",
   "language": "python",
   "name": "python3"
  },
  "language_info": {
   "codemirror_mode": {
    "name": "ipython",
    "version": 3
   },
   "file_extension": ".py",
   "mimetype": "text/x-python",
   "name": "python",
   "nbconvert_exporter": "python",
   "pygments_lexer": "ipython3",
   "version": "3.9.2"
  },
  "orig_nbformat": 4,
  "vscode": {
   "interpreter": {
    "hash": "31f2aee4e71d21fbe5cf8b01ff0e069b9275f58929596ceb00d14d90e3e16cd6"
   }
  }
 },
 "nbformat": 4,
 "nbformat_minor": 2
}
