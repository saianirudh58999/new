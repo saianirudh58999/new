{
 "cells": [
  {
   "cell_type": "code",
   "execution_count": 9,
   "metadata": {},
   "outputs": [
    {
     "name": "stdout",
     "output_type": "stream",
     "text": [
      "{'results': [{'gender': 'male', 'name': {'title': 'Mr', 'first': 'سام', 'last': 'علیزاده'}, 'location': {'street': {'number': 8142, 'name': 'آیت الله مدرس'}, 'city': 'آبادان', 'state': 'قم', 'country': 'Iran', 'postcode': 37188, 'coordinates': {'latitude': '19.3208', 'longitude': '-55.5238'}, 'timezone': {'offset': '-7:00', 'description': 'Mountain Time (US & Canada)'}}, 'email': 'sm.aalyzdh@example.com', 'login': {'uuid': '772d0094-7ef7-4ed6-889d-1f47ec1838dd', 'username': 'organicswan208', 'password': 'kirsten', 'salt': 'D40B4ZyW', 'md5': 'bb40788b692cdc491d0f86525f9a6ff9', 'sha1': '295c3bb21e70ee3de976a4dfd2217dbd8e249f3e', 'sha256': '5494ab6c47a462d83de353585e98d02e280a94cbb73277c950702a66fa7eaa18'}, 'dob': {'date': '1998-07-09T06:07:14.812Z', 'age': 24}, 'registered': {'date': '2007-08-14T16:04:23.209Z', 'age': 15}, 'phone': '097-15158833', 'cell': '0955-808-5827', 'id': {'name': '', 'value': None}, 'picture': {'large': 'https://randomuser.me/api/portraits/men/46.jpg', 'medium': 'https://randomuser.me/api/portraits/med/men/46.jpg', 'thumbnail': 'https://randomuser.me/api/portraits/thumb/men/46.jpg'}, 'nat': 'IR'}], 'info': {'seed': '8c538949516edc43', 'results': 1, 'page': 1, 'version': '1.4'}}\n"
     ]
    }
   ],
   "source": [
    "import requests\n",
    "import pandas as pd\n",
    "\n",
    "# Step 1: Fetch data from REST API\n",
    "api_url = \"https://randomuser.me/api/\"  # Replace with your REST API endpoint\n",
    "response = requests.get(api_url)\n",
    "data = response.json()\n",
    "print(data)\n",
    "\n",
    "# Step 2: Process data using Pandas\n",
    "#df = pd.DataFrame(data)  # Assuming the API response is a JSON array\n",
    "# Perform any necessary data processing using Pandas operations\n",
    "\n",
    "# Step 3: Save processed data to CSV\n",
    "#csv_path = \"output.csv\"  # Path where the CSV file will be saved\n",
    "#df.to_csv(csv_path, index=False)\n",
    "\n",
    "\n",
    "\n",
    "\n",
    "\n"
   ]
  },
  {
   "cell_type": "code",
   "execution_count": 2,
   "metadata": {},
   "outputs": [
    {
     "data": {
      "text/plain": [
       "11"
      ]
     },
     "execution_count": 2,
     "metadata": {},
     "output_type": "execute_result"
    }
   ],
   "source": []
  },
  {
   "cell_type": "code",
   "execution_count": 3,
   "metadata": {},
   "outputs": [],
   "source": []
  },
  {
   "cell_type": "code",
   "execution_count": 6,
   "metadata": {},
   "outputs": [
    {
     "name": "stdout",
     "output_type": "stream",
     "text": [
      "{'message': 'forbidden'}\n"
     ]
    }
   ],
   "source": [
    "import requests\n",
    "\n",
    "access_key = 'dbe1c292-852a-420a-a244-09e0c4a4ebba'\n",
    "\n",
    "headers = {\n",
    "    'X-Meteum-API-Key': access_key\n",
    "}\n",
    "\n",
    "response = requests.get('https://api.meteum.ai/v1/forecast?lat=52.37125&lon=4.89388', headers=headers)\n",
    "\n",
    "print(response.json())\n"
   ]
  },
  {
   "cell_type": "code",
   "execution_count": 5,
   "metadata": {},
   "outputs": [
    {
     "name": "stdout",
     "output_type": "stream",
     "text": [
      "200\n",
      "{'results': [{'gender': 'female', 'name': {'title': 'Miss', 'first': 'Shraddha', 'last': 'Chavare'}, 'location': {'street': {'number': 9330, 'name': 'Sitabuldi Main Rd'}, 'city': 'Miryalaguda', 'state': 'Uttar Pradesh', 'country': 'India', 'postcode': 91624, 'coordinates': {'latitude': '9.6940', 'longitude': '118.1149'}, 'timezone': {'offset': '+5:45', 'description': 'Kathmandu'}}, 'email': 'shraddha.chavare@example.com', 'login': {'uuid': 'c35bee9f-e015-4ae8-afb1-f3baf7f3eb3a', 'username': 'bigwolf304', 'password': 'pilot', 'salt': 'cfvN3FQ0', 'md5': '44e80ef42973a7a0d45dca4b83c7074a', 'sha1': '78d5036d70920e666ee24c7f620086466d5cde27', 'sha256': '5417045196eec7d4fb25934985d8f57e23cf46003e7a2d73a41a22b38437a5c2'}, 'dob': {'date': '1983-09-19T02:48:00.442Z', 'age': 39}, 'registered': {'date': '2014-12-30T01:49:41.550Z', 'age': 8}, 'phone': '8929716333', 'cell': '7075801270', 'id': {'name': 'UIDAI', 'value': '207859908532'}, 'picture': {'large': 'https://randomuser.me/api/portraits/women/91.jpg', 'medium': 'https://randomuser.me/api/portraits/med/women/91.jpg', 'thumbnail': 'https://randomuser.me/api/portraits/thumb/women/91.jpg'}, 'nat': 'IN'}], 'info': {'seed': 'b3e13c45336d04c2', 'results': 1, 'page': 1, 'version': '1.4'}}\n"
     ]
    }
   ],
   "source": [
    "import requests\n",
    "rep=requests.get(\"https://randomuser.me/api/\")\n",
    "print(rep.status_code)\n",
    "print(rep.json())"
   ]
  }
 ],
 "metadata": {
  "kernelspec": {
   "display_name": "Python 3",
   "language": "python",
   "name": "python3"
  },
  "language_info": {
   "codemirror_mode": {
    "name": "ipython",
    "version": 3
   },
   "file_extension": ".py",
   "mimetype": "text/x-python",
   "name": "python",
   "nbconvert_exporter": "python",
   "pygments_lexer": "ipython3",
   "version": "3.9.2"
  },
  "orig_nbformat": 4,
  "vscode": {
   "interpreter": {
    "hash": "31f2aee4e71d21fbe5cf8b01ff0e069b9275f58929596ceb00d14d90e3e16cd6"
   }
  }
 },
 "nbformat": 4,
 "nbformat_minor": 2
}
