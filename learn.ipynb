{
 "cells": [
  {
   "cell_type": "code",
   "execution_count": 1,
   "metadata": {},
   "outputs": [
    {
     "name": "stdout",
     "output_type": "stream",
     "text": [
      "Original DataFrame:\n",
      "      Name  Age      City  Salary\n",
      "0     John   25  New York   50000\n",
      "1     Emma   32    London   65000\n",
      "2    Peter   28     Paris   45000\n",
      "3   Olivia   36    Sydney   70000\n",
      "4  Michael   30     Tokyo   60000\n",
      "\n",
      "Filtered DataFrame (Age > 30):\n",
      "     Name  Age    City  Salary\n",
      "1    Emma   32  London   65000\n",
      "3  Olivia   36  Sydney   70000\n",
      "\n",
      "Sorted DataFrame (by Salary):\n",
      "      Name  Age      City  Salary\n",
      "3   Olivia   36    Sydney   70000\n",
      "1     Emma   32    London   65000\n",
      "4  Michael   30     Tokyo   60000\n",
      "0     John   25  New York   50000\n",
      "2    Peter   28     Paris   45000\n",
      "\n",
      "Grouped DataFrame (Average Salary by City):\n",
      "       City   Salary\n",
      "0    London  65000.0\n",
      "1  New York  50000.0\n",
      "2     Paris  45000.0\n",
      "3    Sydney  70000.0\n",
      "4     Tokyo  60000.0\n"
     ]
    }
   ],
   "source": [
    "import pandas as pd\n",
    "\n",
    "# Create a sample dataframe\n",
    "data = {\n",
    "    'Name': ['John', 'Emma', 'Peter', 'Olivia', 'Michael'],\n",
    "    'Age': [25, 32, 28, 36, 30],\n",
    "    'City': ['New York', 'London', 'Paris', 'Sydney', 'Tokyo'],\n",
    "    'Salary': [50000, 65000, 45000, 70000, 60000]\n",
    "}\n",
    "\n",
    "df = pd.DataFrame(data)\n",
    "\n",
    "# Display the dataframe\n",
    "print(\"Original DataFrame:\")\n",
    "print(df)\n",
    "\n",
    "# Perform data manipulation using Pandas\n",
    "# Example 1: Filter rows based on a condition\n",
    "filtered_df = df[df['Age'] > 30]\n",
    "print(\"\\nFiltered DataFrame (Age > 30):\")\n",
    "print(filtered_df)\n",
    "\n",
    "# Example 2: Sort the dataframe by a specific column\n",
    "sorted_df = df.sort_values(by='Salary', ascending=False)\n",
    "print(\"\\nSorted DataFrame (by Salary):\")\n",
    "print(sorted_df)\n",
    "\n",
    "# Example 3: Group the dataframe by a column and calculate the average\n",
    "grouped_df = df.groupby('City')['Salary'].mean().reset_index()\n",
    "print(\"\\nGrouped DataFrame (Average Salary by City):\")\n",
    "print(grouped_df)\n"
   ]
  },
  {
   "cell_type": "code",
   "execution_count": 3,
   "metadata": {},
   "outputs": [
    {
     "name": "stdout",
     "output_type": "stream",
     "text": [
      "New book created successfully:\n",
      "{'author': 'sai anirudh', 'id': 4, 'publication_year': 2023, 'title': 'old Book'}\n"
     ]
    }
   ],
   "source": [
    "import requests\n",
    "\n",
    "# Define the book data\n",
    "book_data = {\n",
    "    'title': 'old Book',\n",
    "    'id':'',\n",
    "    'author': 'sai anirudh',\n",
    "    'publication_year': 2023\n",
    "}\n",
    "\n",
    "# Send a POST request to create a new book\n",
    "response = requests.post('http://localhost:5000/books', json=book_data)\n",
    "\n",
    "# Check the response status code\n",
    "if response.status_code == 201:\n",
    "    # Book created successfully\n",
    "    created_book = response.json()['book']\n",
    "    print('New book created successfully:')\n",
    "    print(created_book)\n",
    "else:\n",
    "    # Failed to create the book\n",
    "    error_message = response.json().get('message', 'Failed to create book')\n",
    "    print(f'Error: {error_message}')"
   ]
  },
  {
   "cell_type": "code",
   "execution_count": 4,
   "metadata": {},
   "outputs": [
    {
     "name": "stdout",
     "output_type": "stream",
     "text": [
      "Book details:\n",
      "{'author': 'Author 1', 'id': 1, 'publication_year': 2021, 'title': 'Book 1'}\n"
     ]
    }
   ],
   "source": [
    "import requests\n",
    "\n",
    "# Send a GET request to retrieve a specific book by ID\n",
    "book_id = 1  # Replace with the ID of the book you want to retrieve\n",
    "response = requests.get(f'http://localhost:5000/books/{book_id}')\n",
    "\n",
    "# Check the response status code\n",
    "if response.status_code == 200:\n",
    "    # Book retrieved successfully\n",
    "    book = response.json()\n",
    "    print('Book details:')\n",
    "    print(book)\n",
    "else:\n",
    "    # Failed to retrieve the book\n",
    "    error_message = response.json().get('message', 'Failed to retrieve book')\n",
    "    print(f'Error: {error_message}')\n"
   ]
  },
  {
   "cell_type": "code",
   "execution_count": 5,
   "metadata": {},
   "outputs": [
    {
     "name": "stdout",
     "output_type": "stream",
     "text": [
      "Updated book details:\n",
      "{'author': 'Updated Author', 'id': 1, 'publication_year': 2024, 'title': 'Updated Book Title'}\n"
     ]
    }
   ],
   "source": [
    "import requests\n",
    "\n",
    "# Define the updated book data\n",
    "book_id = 1  # Replace with the ID of the book you want to update\n",
    "updated_book_data = {\n",
    "    'title': 'Updated Book Title',\n",
    "    'author': 'Updated Author',\n",
    "    'publication_year': 2024\n",
    "}\n",
    "\n",
    "# Send a PUT request to update the book\n",
    "response = requests.put(f'http://localhost:5000/books/{book_id}', json=updated_book_data)\n",
    "\n",
    "# Check the response status code\n",
    "if response.status_code == 200:\n",
    "    # Book updated successfully\n",
    "    updated_book = response.json()['book']\n",
    "    print('Updated book details:')\n",
    "    print(updated_book)\n",
    "else:\n",
    "    # Failed to update the book\n",
    "    error_message = response.json().get('message', 'Failed to update book')\n",
    "    print(f'Error: {error_message}')\n"
   ]
  },
  {
   "cell_type": "code",
   "execution_count": 7,
   "metadata": {},
   "outputs": [
    {
     "name": "stdout",
     "output_type": "stream",
     "text": [
      "Book deleted successfully\n"
     ]
    }
   ],
   "source": [
    "import requests\n",
    "\n",
    "# Send a DELETE request to delete a specific book by ID\n",
    "book_id = 3 # Replace with the ID of the book you want to delete\n",
    "response = requests.delete(f'http://localhost:5000/books/{book_id}')\n",
    "\n",
    "# Check the response status code\n",
    "if response.status_code == 200:\n",
    "    # Book deleted successfully\n",
    "    print('Book deleted successfully')\n",
    "else:\n",
    "    # Failed to delete the book\n",
    "    error_message = response.json().get('message', 'Failed to delete book')\n",
    "    print(f'Error: {error_message}')\n"
   ]
  }
 ],
 "metadata": {
  "kernelspec": {
   "display_name": "Python 3",
   "language": "python",
   "name": "python3"
  },
  "language_info": {
   "codemirror_mode": {
    "name": "ipython",
    "version": 3
   },
   "file_extension": ".py",
   "mimetype": "text/x-python",
   "name": "python",
   "nbconvert_exporter": "python",
   "pygments_lexer": "ipython3",
   "version": "3.9.2"
  },
  "orig_nbformat": 4
 },
 "nbformat": 4,
 "nbformat_minor": 2
}
